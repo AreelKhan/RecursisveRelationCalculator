{
 "cells": [
  {
   "cell_type": "code",
   "execution_count": 1,
   "metadata": {},
   "outputs": [],
   "source": [
    "import numpy as np\n",
    "import pandas as pd\n",
    "import matplotlib.pyplot as plt"
   ]
  },
  {
   "cell_type": "code",
   "execution_count": 2,
   "metadata": {},
   "outputs": [],
   "source": [
    "## n_1 is the (n-1) term and n_2 is the (n-2) term.\n",
    "## By default (n-1) is 1 and (n-2) is 0.\n",
    "\n",
    "n_1 = 1\n",
    "n_2 = 0\n",
    "\n",
    "## Here you must define your recursive sequence in terms of n_1 and n_2\n",
    "## The default sequence is the fibonacci sequence\n",
    "def recursive_sequence(term_n_1=0,term_n_2=0):\n",
    "    return term_n_1 + term_n_2"
   ]
  },
  {
   "cell_type": "code",
   "execution_count": 3,
   "metadata": {},
   "outputs": [
    {
     "data": {
      "image/png": "[encoded data removed]",
      "text/plain": [
       "<Figure size 432x288 with 1 Axes>"
      ]
     },
     "metadata": {
      "needs_background": "light"
     },
     "output_type": "display_data"
    }
   ],
   "source": [
    "def recursion(function=recursive_sequence,term1=n_1,term2=n_2,lst=[],cap=20):\n",
    "    if cap == -1:\n",
    "        df = pd.DataFrame({\"Value\":lst},index=[f\"n{num}\" for num in range(-2,len(lst)-2)])\n",
    "        plot = plt.scatter(df.index,df)\n",
    "        return df\n",
    "    else:\n",
    "        n = function(term1,term2)\n",
    "        lst.append(n)\n",
    "        recursion(function,n,term1,lst,cap-1)\n",
    "        \n",
    "recursion(lst=[n_2,n_1])"
   ]
  },
  {
   "cell_type": "code",
   "execution_count": null,
   "metadata": {},
   "outputs": [],
   "source": []
  }
 ],
 "metadata": {
  "kernelspec": {
   "display_name": "Python 3",
   "language": "python",
   "name": "python3"
  },
  "language_info": {
   "codemirror_mode": {
    "name": "ipython",
    "version": 3
   },
   "file_extension": ".py",
   "mimetype": "text/x-python",
   "name": "python",
   "nbconvert_exporter": "python",
   "pygments_lexer": "ipython3",
   "version": "3.8.5"
  }
 },
 "nbformat": 4,
 "nbformat_minor": 4
}
