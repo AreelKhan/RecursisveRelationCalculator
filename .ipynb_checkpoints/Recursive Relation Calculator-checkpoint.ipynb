{
 "cells": [
  {
   "cell_type": "code",
   "execution_count": 1,
   "metadata": {},
   "outputs": [],
   "source": [
    "import numpy as np\n",
    "import pandas as pd\n",
    "import matplotlib.pyplot as plt\n",
    "import math\n",
    "import os\n",
    "%matplotlib inline"
   ]
  },
  {
   "cell_type": "code",
   "execution_count": 2,
   "metadata": {},
   "outputs": [
    {
     "name": "stdout",
     "output_type": "stream",
     "text": [
      "C:\\Users\\areel\\OneDrive\\Documents\\GitHub\\RecursisveRelationCalculator\\Recursive_Relation_Calculator.ipynb\n"
     ]
    }
   ],
   "source": [
    "file_path = os.path.abspath(\"Recursive_Relation_Calculator.ipynb\")\n",
    "print(file_path)"
   ]
  },
  {
   "cell_type": "code",
   "execution_count": 3,
   "metadata": {},
   "outputs": [],
   "source": [
    "class RecursiveCalculator:\n",
    "    \n",
    "    def __init__(self, starting_terms):\n",
    "        '''\n",
    "        type starting_terms: list of floats\n",
    "        \n",
    "        Enter a list of starting terms for your sequence. Can be arbitrarly long\n",
    "        '''\n",
    "        self.term_list = starting_terms\n",
    "        self.starting_terms = starting_terms\n",
    "        self.num_start_terms = len(starting_terms)\n",
    "        \n",
    "    def relation(self, terms):\n",
    "        '''\n",
    "        type terms: list of floats\n",
    "        rtype: float\n",
    "        \n",
    "        takes a list of terms, computes some recursive relation\n",
    "        on those terms, and outputs a float which is the next term\n",
    "        in the sequence\n",
    "        '''\n",
    "        # enter your recursive relation here.\n",
    "        return math.sqrt(terms[0]) + 1/terms[0]\n",
    "    \n",
    "    def recursion(self, values, cap):\n",
    "        '''\n",
    "        type values: list of floats\n",
    "        type cap: int\n",
    "        rtype: list\n",
    "        \n",
    "        takes a list of terms that correspond to a sequence as an input\n",
    "        and recursively produces the next terms in the sequence. Produces\n",
    "        as many terms as indicated by the input cap.\n",
    "        '''\n",
    "        if cap - self.num_start_terms == 0:\n",
    "            return\n",
    "        else:\n",
    "            cap -= 1\n",
    "            n = self.relation(values)\n",
    "            self.term_list.append(n)\n",
    "            self.recursion(self.term_list[-self.num_start_terms:], cap)\n",
    "    \n",
    "    def calculate(self, cap=20):\n",
    "        '''\n",
    "        type cap: int\n",
    "        rtype: None\n",
    "        \n",
    "        Wrapper function for calculating terms in a recursive\n",
    "        sequence. Mutates the self.table attribute\n",
    "        '''\n",
    "        return self.recursion(self.starting_terms, cap)\n",
    "    \n",
    "    def table(self):\n",
    "        '''\n",
    "        rtype: pandas.core.series.Series\n",
    "        \n",
    "        Produces a table of the terms in the sequence\n",
    "        '''\n",
    "        x = pd.Series(self.term_list, [f\"n_{num}\" for num in range(1,len(self.term_list)+1)])\n",
    "        print(x)\n",
    "        return x\n",
    "    \n",
    "    def plot(self):\n",
    "        '''\n",
    "        rtype: pandas.core.series.Series & matplotlib.axes._subplots.AxesSubplot\n",
    "        \n",
    "        Produces a table and a plot of the graph of the sequence\n",
    "        '''\n",
    "        self.table().plot(use_index=False)"
   ]
  },
  {
   "cell_type": "code",
   "execution_count": 4,
   "metadata": {},
   "outputs": [
    {
     "name": "stdout",
     "output_type": "stream",
     "text": [
      "n_1     2.000000\n",
      "n_2     1.914214\n",
      "n_3     1.905959\n",
      "n_4     1.905235\n",
      "n_5     1.905172\n",
      "n_6     1.905167\n",
      "n_7     1.905166\n",
      "n_8     1.905166\n",
      "n_9     1.905166\n",
      "n_10    1.905166\n",
      "n_11    1.905166\n",
      "n_12    1.905166\n",
      "n_13    1.905166\n",
      "n_14    1.905166\n",
      "n_15    1.905166\n",
      "n_16    1.905166\n",
      "n_17    1.905166\n",
      "n_18    1.905166\n",
      "n_19    1.905166\n",
      "n_20    1.905166\n",
      "dtype: float64\n"
     ]
    },
    {
     "data": {
      "image/png": "[encoded data removed]",
      "text/plain": [
       "<Figure size 432x288 with 1 Axes>"
      ]
     },
     "metadata": {
      "needs_background": "light"
     },
     "output_type": "display_data"
    }
   ],
   "source": [
    "## Example:\n",
    "## the will calculate and plot the relation:\n",
    "## next_term = sqrt(x) + 1/x\n",
    "## starting term is n = 2\n",
    "\n",
    "example = RecursiveCalculator([2])\n",
    "example.calculate()\n",
    "example.plot()"
   ]
  },
  {
   "cell_type": "code",
   "execution_count": null,
   "metadata": {},
   "outputs": [],
   "source": []
  }
 ],
 "metadata": {
  "kernelspec": {
   "display_name": "Python 3",
   "language": "python",
   "name": "python3"
  },
  "language_info": {
   "codemirror_mode": {
    "name": "ipython",
    "version": 3
   },
   "file_extension": ".py",
   "mimetype": "text/x-python",
   "name": "python",
   "nbconvert_exporter": "python",
   "pygments_lexer": "ipython3",
   "version": "3.8.5"
  }
 },
 "nbformat": 4,
 "nbformat_minor": 4
}
